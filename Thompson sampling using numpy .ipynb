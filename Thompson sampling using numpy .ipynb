{
 "cells": [
  {
   "cell_type": "code",
   "execution_count": 2,
   "metadata": {
    "ExecuteTime": {
     "end_time": "2020-12-07T10:21:27.995646Z",
     "start_time": "2020-12-07T10:21:27.274158Z"
    }
   },
   "outputs": [
    {
     "name": "stdout",
     "output_type": "stream",
     "text": [
      "[0.20556 0.69645 0.09799]\n"
     ]
    }
   ],
   "source": [
    "import numpy as np \n",
    "\n",
    "plays = np.array([100, 20, 20])\n",
    "wins = np.array([32, 8, 5])\n",
    "num_samples = 100000\n",
    "\n",
    "p_A_sample = np.random.beta(wins[0], plays[0] - wins[0], num_samples)\n",
    "p_B_sample = np.random.beta(wins[1], plays[1] - wins[1], num_samples)\n",
    "p_C_sample = np.random.beta(wins[2], plays[2] - wins[2], num_samples)\n",
    "\n",
    "mab_wins = np.array([0.0, 0.0, 0.0])\n",
    "\n",
    "for i in range(num_samples):\n",
    "    winner = np.argmax([p_A_sample[i], p_B_sample[i], p_C_sample[i]])\n",
    "    mab_wins[winner] += 1 \n",
    "    \n",
    "mab_wins = mab_wins / num_samples\n",
    "print(mab_wins)"
   ]
  }
 ],
 "metadata": {
  "kernelspec": {
   "display_name": "Python 3",
   "language": "python",
   "name": "python3"
  },
  "language_info": {
   "codemirror_mode": {
    "name": "ipython",
    "version": 3
   },
   "file_extension": ".py",
   "mimetype": "text/x-python",
   "name": "python",
   "nbconvert_exporter": "python",
   "pygments_lexer": "ipython3",
   "version": "3.7.0"
  },
  "toc": {
   "base_numbering": 1,
   "nav_menu": {},
   "number_sections": true,
   "sideBar": true,
   "skip_h1_title": false,
   "title_cell": "Table of Contents",
   "title_sidebar": "Contents",
   "toc_cell": false,
   "toc_position": {},
   "toc_section_display": true,
   "toc_window_display": false
  },
  "varInspector": {
   "cols": {
    "lenName": 16,
    "lenType": 16,
    "lenVar": 40
   },
   "kernels_config": {
    "python": {
     "delete_cmd_postfix": "",
     "delete_cmd_prefix": "del ",
     "library": "var_list.py",
     "varRefreshCmd": "print(var_dic_list())"
    },
    "r": {
     "delete_cmd_postfix": ") ",
     "delete_cmd_prefix": "rm(",
     "library": "var_list.r",
     "varRefreshCmd": "cat(var_dic_list()) "
    }
   },
   "types_to_exclude": [
    "module",
    "function",
    "builtin_function_or_method",
    "instance",
    "_Feature"
   ],
   "window_display": false
  }
 },
 "nbformat": 4,
 "nbformat_minor": 4
}
